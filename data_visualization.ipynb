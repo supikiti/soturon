{
 "cells": [
  {
   "cell_type": "code",
   "execution_count": null,
   "metadata": {},
   "outputs": [],
   "source": [
    "plt.subplots_adjust(wspace=1.1, hspace=2)\n",
    "show = ['ピッチ (度)', 'relative_wind_y', 'tp', 'swh', 'SPC_flux[mm]', 'label']\n",
    "plt.figure(figsize=(15, 5))\n",
    "start = 10000\n",
    "for i, s in enumerate(show):\n",
    "    #plt.subplots_adjust(wspace=1.1, hspace=0.5)\n",
    "    plt.subplot(len(show), 1, i+1)\n",
    "    plt.plot(np.arange(len(shirase_spc.ix[start:start+7200, :])), shirase_spc.ix[start:start+7200, :][s])\n",
    "\n",
    "print(\"総サンプル数：\", len(shirase_spc['SPC_flux[mm]']))\n",
    "#th = 4.855319e-07\n",
    "#tmp = shirase_spc[shirase_spc['tp'] <= th / 3600]['SPC_flux[mm]']\n",
    "print(\"しぶき観測あり\", len(shirase_spc[shirase_spc['label'] == 1]))\n",
    "print(\"割合：{} %\".format(len(shirase_spc[shirase_spc['label'] == 1]) / len(shirase_spc['label']) * 100))"
   ]
  },
  {
   "cell_type": "code",
   "execution_count": null,
   "metadata": {},
   "outputs": [],
   "source": [
    "# 相対風速が正の数\n",
    "print(\"相対風速が正の割合\", len(shirase_spc), len(shirase_spc[shirase_spc['relative_wind_y'] >= 0.0]), \n",
    "      len(shirase_spc[shirase_spc['relative_wind_y'] >= 0.0]) / len(shirase_spc) * 100, \"%\")\n",
    "\n",
    "for i in range(35):\n",
    "    tmp = shirase_spc[shirase_spc['relative_wind_y'] >= i]\n",
    "    print(\"相対風速が\", str(i), len(tmp), len(tmp[tmp['label'] != 0.0]), \n",
    "          \"しぶきが発生する割合\", len(tmp[tmp['label'] != 0.0]) / len(tmp) * 100, \"%\", \n",
    "          \"しぶきが発生しない割合\", len(tmp[tmp['label'] == 0.0]) / len(tmp) * 100, \"%\")"
   ]
  },
  {
   "cell_type": "code",
   "execution_count": null,
   "metadata": {},
   "outputs": [],
   "source": [
    "tmp = shirase_spc[shirase_spc['relative_wind_y'] < 0.0]\n",
    "print(\"相対風速が\", str(i), len(tmp), len(tmp[tmp['label'] != 0.0]), \n",
    "          \"しぶきが発生する割合\", len(tmp[tmp['label'] != 0.0]) / len(tmp) * 100, \"%\", \n",
    "          \"しぶきが発生しない割合\", len(tmp[tmp['label'] == 0.0]) / len(tmp) * 100, \"%\")"
   ]
  },
  {
   "cell_type": "code",
   "execution_count": null,
   "metadata": {},
   "outputs": [],
   "source": [
    "for i in range(5):\n",
    "    tmp = shirase_spc[shirase_spc['swh'] >= i]\n",
    "    print(\"有義波高\", str(i), len(tmp), len(tmp[tmp['label'] != 0.0]), \n",
    "          \"しぶきが発生する割合\", len(tmp[tmp['label'] != 0.0]) / len(tmp) * 100, \"%\", \n",
    "          \"しぶきが発生しない割合\", len(tmp[tmp['label'] == 0.0]) / len(tmp) * 100, \"%\")"
   ]
  }
 ],
 "metadata": {
  "kernelspec": {
   "display_name": "Python 3",
   "language": "python",
   "name": "python3"
  },
  "language_info": {
   "codemirror_mode": {
    "name": "ipython",
    "version": 3
   },
   "file_extension": ".py",
   "mimetype": "text/x-python",
   "name": "python",
   "nbconvert_exporter": "python",
   "pygments_lexer": "ipython3",
   "version": "3.6.8"
  }
 },
 "nbformat": 4,
 "nbformat_minor": 2
}
