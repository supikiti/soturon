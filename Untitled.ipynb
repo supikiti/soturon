{
 "cells": [
  {
   "cell_type": "code",
   "execution_count": 1,
   "metadata": {},
   "outputs": [],
   "source": [
    "%load_ext autoreload\n",
    "%matplotlib inline\n",
    "%autoreload \n",
    "import matplotlib.pyplot as plt\n",
    "import sklearn\n",
    "import pandas as pd\n",
    "import numpy as np\n",
    "import librosa\n",
    "from librosa.core.spectrum import _spectrogram"
   ]
  },
  {
   "cell_type": "code",
   "execution_count": 2,
   "metadata": {},
   "outputs": [],
   "source": [
    "df = pd.read_hdf('./jare59_all_rawv2.hdf')"
   ]
  },
  {
   "cell_type": "code",
   "execution_count": 3,
   "metadata": {},
   "outputs": [
    {
     "data": {
      "text/plain": [
       "Index(['緯度 (度)', '経度 (度)', '速力 (kt)', '艦首方位 (度)', 'ピッチ (度)', 'ロール (度)',\n",
       "       'ヨーレート (度/秒)', 'ピッチレート (度/秒)', 'ロールレート (度/秒)', '舵角　右舵 (度)', '舵角　左舵 (度)',\n",
       "       '速力指令　右', '速力指令　左', '回転数調整', '南北速度 (kt)', '東西速度 (kt)', '速度 (kt)',\n",
       "       '船首Ax (m/s2)', '船首Ay (m/s2)', '船首Az (m/s2)', '中央Ax (m/s2)',\n",
       "       '中央Ay (m/s2)', '中央Az (m/s2)', '船尾Ax (m/s2)', '船尾Ay (m/s2)',\n",
       "       '船尾Az (m/s2)', '右軸N (rpm)', '左軸N (rpm)', '右軸Q (kNm)', '左軸Q (kNm)',\n",
       "       '右軸SHP (PS)', '左軸SHP (PS)', '右軸T (kN)', '左軸T (kN)', '右散水流量 (m3/min)',\n",
       "       '左散水流量 (m3/min)', '計測ノッチ', '相対風速 (m/s)_sin', '相対風速 (m/s)_cos'],\n",
       "      dtype='object')"
      ]
     },
     "execution_count": 3,
     "metadata": {},
     "output_type": "execute_result"
    }
   ],
   "source": [
    "df.columns"
   ]
  },
  {
   "cell_type": "code",
   "execution_count": 5,
   "metadata": {},
   "outputs": [
    {
     "data": {
      "text/plain": [
       "[<matplotlib.lines.Line2D at 0x7fdc78080940>]"
      ]
     },
     "execution_count": 5,
     "metadata": {},
     "output_type": "execute_result"
    },
    {
     "data": {
      "image/png": "[encoded data removed]",
      "text/plain": [
       "<Figure size 432x288 with 1 Axes>"
      ]
     },
     "metadata": {
      "needs_background": "light"
     },
     "output_type": "display_data"
    }
   ],
   "source": [
    "plt.plot(np.arange(len(df)), df.loc[:, \"ピッチ (度)\"])"
   ]
  },
  {
   "cell_type": "code",
   "execution_count": null,
   "metadata": {},
   "outputs": [],
   "source": []
  }
 ],
 "metadata": {
  "kernelspec": {
   "display_name": "Python 3",
   "language": "python",
   "name": "python3"
  },
  "language_info": {
   "codemirror_mode": {
    "name": "ipython",
    "version": 3
   },
   "file_extension": ".py",
   "mimetype": "text/x-python",
   "name": "python",
   "nbconvert_exporter": "python",
   "pygments_lexer": "ipython3",
   "version": "3.6.8"
  }
 },
 "nbformat": 4,
 "nbformat_minor": 2
}
