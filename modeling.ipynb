{
 "cells": [
  {
   "cell_type": "markdown",
   "metadata": {},
   "source": [
    "# xgboost"
   ]
  },
  {
   "cell_type": "code",
   "execution_count": null,
   "metadata": {},
   "outputs": [],
   "source": [
    "import xgboost as xgb\n",
    "train = np.array(shirase_spc.loc[:, ['relative_wind_y', 'swh']])\n",
    "test = np.array(shirase_spc.loc[:, 'label'])\n",
    "\n",
    "dtrain = xgb.DMatrix(train, label=test)\n",
    "params = {'objective': 'binary:logistic', 'silent':1, 'random_state':71}\n",
    "num_round = 50\n",
    "model = xgb.train(params, dtrain, num_round)\n",
    "\n",
    "fscore = model.get_score(importance_type='total_gain')\n",
    "fscore = sorted([(k, v) for k , v in fscore.items()], key=lambda tpl: tpl[1], reverse=True)\n",
    "print('xgboost importance')\n",
    "print(fscore[:5])"
   ]
  },
  {
   "cell_type": "code",
   "execution_count": null,
   "metadata": {},
   "outputs": [],
   "source": [
    "import xgboost as xgb\n",
    "from sklearn.model_selection import GridSearchCV\n",
    "from sklearn.model_selection import train_test_split\n",
    "from sklearn.metrics import confusion_matrix, classification_report\n",
    "\n",
    "# データ読み込み\n",
    "X_train, X_test = train_test_split(train)\n",
    "y_train, y_test = train_test_split(test)\n",
    "\n",
    "# xgboostモデルの作成\n",
    "clf = xgb.XGBClassifier()\n",
    "\n",
    "# ハイパーパラメータ探索\n",
    "clf_cv = GridSearchCV(clf, {'max_depth': 2, 'n_estimators': 50}, verbose=1)\n",
    "clf_cv.fit(X_train, y_train)\n",
    "print (clf_cv.best_params_, clf_cv.best_score_)\n",
    "\n",
    "# 改めて最適パラメータで学習\n",
    "clf = xgb.XGBClassifier(**clf_cv.best_params_)\n",
    "clf.fit(X_train, y_train)\n",
    "\n",
    "# 学習モデルの保存、読み込み\n",
    "# import pickle\n",
    "# pickle.dump(clf, open(\"model.pkl\", \"wb\"))\n",
    "# clf = pickle.load(open(\"model.pkl\", \"rb\"))\n",
    "\n",
    "# 学習モデルの評価\n",
    "pred = clf.predict(X_test)\n",
    "print (confusion_matrix(y_test, pred))\n",
    "print (classification_report(y_test, pred))"
   ]
  },
  {
   "cell_type": "markdown",
   "metadata": {},
   "source": [
    "# PCA"
   ]
  },
  {
   "cell_type": "code",
   "execution_count": null,
   "metadata": {},
   "outputs": [],
   "source": [
    "from sklearn.decomposition import PCA\n",
    "from sklearn.manifold import TSNE\n",
    "import os\n",
    "\n",
    "def plot_reduced_graph(data, label, image_name, model='tsne',\n",
    "                                     random_sampling=False, random_state=0,\n",
    "                                     file_path='/Users/nakamurataiki/Desktop/sprayf/dataset/cruise/jare60'):\n",
    "    if random_sampling:\n",
    "        data = data.sample(1000, random_state=random_state)\n",
    "        label = label.sample(1000, random_state=random_state)\n",
    "        \n",
    "    data = np.array(data)\n",
    "    label = np.array(label)\n",
    "        \n",
    "    if model == 'pca':\n",
    "        pca = PCA(n_components=2, random_state=random_state)\n",
    "        transformed = pca.fit_transform(data)\n",
    "    elif model == 'tsne':\n",
    "        transformed = TSNE(n_components=2, random_state=random_state).fit_transform(data)\n",
    "    \n",
    "    transformed_1 = transformed[label == 1]\n",
    "    transformed_0 = transformed[label == 0]\n",
    "    \n",
    "    plt.figure(figsize=(7, 7))\n",
    "    plt.scatter(transformed_0[:, 0], transformed_0[:, 1], color='black', label='0', alpha=0.1)\n",
    "    plt.scatter(transformed_1[:, 0], transformed_1[:, 1], color='yellow', label='1')\n",
    "    plt.title(\"PCA: FFT\")\n",
    "    plt.show()\n",
    "    #plt.savefig(os.path.join(file_path, image_name+'.png'))\n",
    "\n",
    "reduction_data = []\n",
    "#reduction_data = ['swh', '速度 (kt)', '相対風速 (m/s)', 0, 1]\n",
    "#reduction_data = ['Relative wind speed[m/s]', 'swh']\n",
    "reduction_data.extend([i for i in range(1, 31)])\n",
    "for_reduction = without_tp.loc[:, reduction_data]\n",
    "label = without_tp.loc[:, 'label']\n",
    "print(for_reduction.shape, label.shape)\n",
    "plot_reduced_graph(for_reduction, label, 'pca_relativewind_swh', model='tsne', random_sampling=True)"
   ]
  }
 ],
 "metadata": {
  "kernelspec": {
   "display_name": "Python 3",
   "language": "python",
   "name": "python3"
  },
  "language_info": {
   "codemirror_mode": {
    "name": "ipython",
    "version": 3
   },
   "file_extension": ".py",
   "mimetype": "text/x-python",
   "name": "python",
   "nbconvert_exporter": "python",
   "pygments_lexer": "ipython3",
   "version": "3.6.8"
  }
 },
 "nbformat": 4,
 "nbformat_minor": 2
}
