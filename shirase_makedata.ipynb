{
 "cells": [
  {
   "cell_type": "code",
   "execution_count": 8,
   "metadata": {},
   "outputs": [
    {
     "name": "stdout",
     "output_type": "stream",
     "text": [
      "The autoreload extension is already loaded. To reload it, use:\n",
      "  %reload_ext autoreload\n"
     ]
    }
   ],
   "source": [
    "%load_ext autoreload\n",
    "%matplotlib inline\n",
    "%autoreload \n",
    "import matplotlib.pyplot as plt\n",
    "import sklearn\n",
    "import pandas as pd\n",
    "import numpy as np\n",
    "import librosa\n",
    "from librosa.core.spectrum import _spectrogram"
   ]
  },
  {
   "cell_type": "markdown",
   "metadata": {},
   "source": [
    "# データのロード"
   ]
  },
  {
   "cell_type": "code",
   "execution_count": 9,
   "metadata": {},
   "outputs": [],
   "source": [
    "cruise=\"jare60\"\n",
    "era5 = pd.read_pickle(\"./{c}_era5_filled.pkl\".format(c=cruise))[[\"mwp\", \"t2m\", \"sst\", \"mwd\", \"tp\", \"swh\", \"u10\", \"v10\"]]\n",
    "spc = pd.read_pickle(\"{c}_spc_all.pkl\".format(c=cruise))[\"SPC_flux[mm]\"]\n",
    "shirase = pd.read_pickle(\"./jare60_all.pkl\")"
   ]
  },
  {
   "cell_type": "code",
   "execution_count": 10,
   "metadata": {},
   "outputs": [],
   "source": [
    "era5_resampled = era5.resample(\"S\").nearest()\n",
    "# tpは総和なので平均化\n",
    "era5_resampled['tp'] = era5_resampled['tp'] / 3600"
   ]
  },
  {
   "cell_type": "code",
   "execution_count": 11,
   "metadata": {},
   "outputs": [],
   "source": [
    "shirase_spc = shirase.merge(spc, left_index=True, right_index=True)\n",
    "shirase_spc = shirase_spc.merge(era5_resampled, left_index=True, right_index=True)"
   ]
  },
  {
   "cell_type": "code",
   "execution_count": 12,
   "metadata": {},
   "outputs": [],
   "source": [
    "# 有義波高が負の地点の処理\n",
    "shirase_spc['swh'] = shirase_spc['swh'].where(shirase_spc['swh'] >= 0, 0.0)"
   ]
  },
  {
   "cell_type": "code",
   "execution_count": 13,
   "metadata": {},
   "outputs": [],
   "source": [
    "# 北からの相対風速値\n",
    "shirase_spc['relative_wind_y'] = shirase_spc['相対風速 (m/s)_sin'] * shirase_spc['相対風速 (m/s)']"
   ]
  },
  {
   "cell_type": "code",
   "execution_count": 14,
   "metadata": {},
   "outputs": [],
   "source": [
    "# 飛沫データのラベリング\n",
    "spray_all = np.array(shirase_spc['SPC_flux[mm]'])\n",
    "# 飛沫発生ならlabel=1, 飛沫0.0ならlabel=0\n",
    "spc_label = [1 if i != 0 else 0 for i in spray_all]\n",
    "shirase_spc['label'] = spc_label"
   ]
  },
  {
   "cell_type": "markdown",
   "metadata": {},
   "source": [
    "# ピッチ時間変化から周波数を推定"
   ]
  },
  {
   "cell_type": "code",
   "execution_count": 15,
   "metadata": {
    "scrolled": true
   },
   "outputs": [],
   "source": [
    "jare60_pitch = shirase_spc['ピッチ (度)']\n",
    "from scipy import signal\n",
    "\n",
    "widths = np.arange(1, 31)\n",
    "cwtmatr = signal.cwt(jare60_pitch, signal.ricker, widths)"
   ]
  },
  {
   "cell_type": "code",
   "execution_count": 16,
   "metadata": {},
   "outputs": [
    {
     "data": {
      "image/png": "[encoded data removed]",
      "text/plain": [
       "<Figure size 1440x360 with 2 Axes>"
      ]
     },
     "metadata": {
      "needs_background": "light"
     },
     "output_type": "display_data"
    }
   ],
   "source": [
    "plt.figure(figsize=(20, 5))\n",
    "plt.imshow(cwtmatr[:len(cwtmatr)], extent=[-1, 1, 1, 31], cmap='Set1', aspect='auto',\n",
    "           vmax=abs(cwtmatr).max(), vmin=-abs(cwtmatr).max())\n",
    "plt.colorbar()\n",
    "plt.savefig(\"wavelet_1.png\")\n",
    "plt.show()"
   ]
  },
  {
   "cell_type": "markdown",
   "metadata": {},
   "source": [
    "## しらせデータと結合"
   ]
  },
  {
   "cell_type": "code",
   "execution_count": 48,
   "metadata": {},
   "outputs": [],
   "source": [
    "for i in range(0, 30):\n",
    "    shirase_spc[i+1] = cwtmatr[i, :]"
   ]
  },
  {
   "cell_type": "markdown",
   "metadata": {},
   "source": [
    "## しぶきのラベリング"
   ]
  },
  {
   "cell_type": "code",
   "execution_count": null,
   "metadata": {},
   "outputs": [],
   "source": [
    "spray_all = np.array(shirase_spc['SPC_flux[mm]'])\n",
    "# 飛沫発生ならlabel=1, 飛沫0.0ならlabel=0\n",
    "spc_label = [1 if i != 0 else 0 for i in spray_all]\n",
    "shirase_spc['label'] = spc_label"
   ]
  },
  {
   "cell_type": "markdown",
   "metadata": {},
   "source": [
    "# 不要データの削除"
   ]
  },
  {
   "cell_type": "code",
   "execution_count": 58,
   "metadata": {},
   "outputs": [
    {
     "data": {
      "text/plain": [
       "Index([        'ピッチ (度)',    'ピッチレート (度/秒)',     'ヨーレート (度/秒)',\n",
       "               'ロール (度)',    'ロールレート (度/秒)',      '相対風速 (m/s)',\n",
       "        '相対風速 (m/s)_cos',  '相対風速 (m/s)_sin',          '経度 (度)',\n",
       "                '緯度 (度)',        '艦首方位 (度)',           '計測ノッチ',\n",
       "               '速力 (kt)',          '速力指令　右',          '速力指令　左',\n",
       "               '速度 (kt)',    'SPC_flux[mm]',             'mwp',\n",
       "                   't2m',             'sst',             'mwd',\n",
       "                    'tp',             'swh',             'u10',\n",
       "                   'v10',           'label', 'relative_wind_y',\n",
       "                       1,                 2,                 3,\n",
       "                       4,                 5,                 6,\n",
       "                       7,                 8,                 9,\n",
       "                      10,                11,                12,\n",
       "                      13,                14,                15,\n",
       "                      16,                17,                18,\n",
       "                      19,                20,                21,\n",
       "                      22,                23,                24,\n",
       "                      25,                26,                27,\n",
       "                      28,                29,                30],\n",
       "      dtype='object')"
      ]
     },
     "execution_count": 58,
     "metadata": {},
     "output_type": "execute_result"
    }
   ],
   "source": [
    "shirase_spc.columns"
   ]
  },
  {
   "cell_type": "code",
   "execution_count": 59,
   "metadata": {},
   "outputs": [],
   "source": [
    "del_list = ['ピッチレート (度/秒)', 'ヨーレート (度/秒)', 'ロール (度)', 'ロールレート (度/秒)','経度 (度)',\n",
    "           '緯度 (度)','計測ノッチ', '速力 (kt)', '速力指令　右', '速力指令　左',]"
   ]
  },
  {
   "cell_type": "code",
   "execution_count": 60,
   "metadata": {},
   "outputs": [],
   "source": [
    "for i in del_list:\n",
    "    del shirase_spc[i]"
   ]
  },
  {
   "cell_type": "code",
   "execution_count": 61,
   "metadata": {},
   "outputs": [],
   "source": [
    "shirase_spc = shirase_spc.rename(columns={'速度 (kt)' : 'Speed[knot]', '艦首方位 (度)':'Course[deg]'})"
   ]
  },
  {
   "cell_type": "code",
   "execution_count": 64,
   "metadata": {},
   "outputs": [],
   "source": [
    "x = shirase_spc['相対風速 (m/s)_cos']\n",
    "y = shirase_spc['相対風速 (m/s)_sin']\n",
    "shirase_spc['Relative_wind_direction[deg]'] = np.rad2deg(np.arctan(y/x))"
   ]
  },
  {
   "cell_type": "code",
   "execution_count": null,
   "metadata": {},
   "outputs": [],
   "source": [
    "# def polar2xy(df, vec):\n",
    "#     #極座標パラメーターを直交座標パラメーターに変換\n",
    "#     speed = vec[0]\n",
    "#     degree = vec[1]\n",
    "#     v_x = df[speed]*np.cos(df[degree]/180*np.pi) #南北or 船首\n",
    "#     v_y = df[speed]*np.sin(df[degree]/180*np.pi) #東西or 船側\n",
    "#     df[\"{}_x\".format(speed)] = v_x\n",
    "#     df[\"{}_y\".format(speed)] = v_y\n",
    "#     return df"
   ]
  },
  {
   "cell_type": "code",
   "execution_count": null,
   "metadata": {},
   "outputs": [],
   "source": [
    "# vec_list = [\n",
    "# ['Speed[knot]', 'Course[deg]'],\n",
    "# ['Relative wind speed[m/s]'     , 'Relative wind direction[deg]']]"
   ]
  },
  {
   "cell_type": "code",
   "execution_count": null,
   "metadata": {},
   "outputs": [],
   "source": [
    "# df[\"Relative wind direction[deg]\"] = np.rad2deg(np.arccos(df['相対風速 (m/s)_cos']/df['相対風速 (m/s)']))"
   ]
  },
  {
   "cell_type": "code",
   "execution_count": 66,
   "metadata": {},
   "outputs": [],
   "source": [
    "shirase_spc = shirase_spc.rename(columns={'相対風速 (m/s)':'Relative wind speed[m/s]'})"
   ]
  },
  {
   "cell_type": "code",
   "execution_count": null,
   "metadata": {},
   "outputs": [],
   "source": [
    "# for vec in vec_list:\n",
    "#     if vec[0] in df.columns:\n",
    "#         df = polar2xy(df, vec)"
   ]
  },
  {
   "cell_type": "code",
   "execution_count": null,
   "metadata": {},
   "outputs": [],
   "source": [
    "# def resample(df,freq=\"T\", sep_tp=0.01, sep_swh=0.5):\n",
    "#     df = df.drop_duplicates().dropna().sort_index().resample(\"S\").nearest(300)\n",
    "\n",
    "#     tmp = df.resample(freq).mean()\n",
    "#     len_raw = len(df)//60\n",
    "#     # 雨を除外\n",
    "#     tmp = tmp.loc[tmp['tp'] <= sep_tp*0.001, :]\n",
    "# #     # 風を除外\n",
    "#     #tmp = tmp.loc[tmp['Relative wind speed[m/s]_y'] > 0, :]\n",
    "#     tmp = tmp.loc[tmp['swh'] > sep_swh, :]\n",
    "#     print(\"avalable data ratio:{} %\".format(len(tmp)/len_raw*100), len(tmp))\n",
    "#     return tmp"
   ]
  },
  {
   "cell_type": "code",
   "execution_count": null,
   "metadata": {},
   "outputs": [],
   "source": [
    "# def rose(tmp, value, direction, title, name, mode=\"wind\"):\n",
    "#     import fushiming.graph.polar as polar\n",
    "#     ws = tmp[value]\n",
    "#     dr = tmp[direction]\n",
    "#     if mode == \"wave\":\n",
    "#         dr = dr + 180\n",
    "# #     dr[dr < 0] = dr+360\n",
    "# #     dr[dr>360]=dr-360\n",
    "#     wr = polar.windrose(dr, ws)\n",
    "#     wr.label_to_degree()\n",
    "#     number_of_sections = 16\n",
    "#     wr.draw_bar(bins=6, title=title, name = name, mode=mode, nsector=number_of_sections*10,\n",
    "#                        fontsize=15)"
   ]
  },
  {
   "cell_type": "code",
   "execution_count": null,
   "metadata": {},
   "outputs": [],
   "source": [
    "# df_resampled[\"Relative wind direction[deg]\"] = 360 - (df_resampled[\"Relative wind direction[deg]\"] - 90)"
   ]
  },
  {
   "cell_type": "code",
   "execution_count": null,
   "metadata": {},
   "outputs": [],
   "source": [
    "# import matplotlib.pyplot as plt\n",
    "# from windrose import WindroseAxes\n",
    "# import matplotlib.cm as cm\n",
    "\n",
    "# fontsize = 15\n",
    "# ax = WindroseAxes.from_ax()\n",
    "# ax.bar(df_resampled[\"Relative wind direction[deg]\"], df_resampled['Relative wind speed[m/s]'],\n",
    "#            normed=True, opening=0.8, edgecolor='white', nsector=160, bins=np.arange(0, 25, 5))\n",
    "# ax.set_legend(fontsize=fontsize)\n",
    "# ax.tick_params(labelsize = fontsize)\n",
    "# ax.set_thetagrids(angles=ax.theta_angles, labels=[90, 45, 0, 315, 270, 225, 180, 135])\n",
    "# #ax.legend(fontsize=fontsize,bbox_to_anchor=(1.1, 1), loc='upper left', borderaxespad=0)\n",
    "# plt.title(\"Relative wind rose\", fontsize=fontsize)\n",
    "# rose_file = \"./dataset/cruise/jare60/windrose_shirase.png\"\n",
    "# plt.savefig(rose_file)\n",
    "# plt.show()"
   ]
  },
  {
   "cell_type": "markdown",
   "metadata": {},
   "source": [
    "## 出会い周期\n",
    "\n",
    "航行する船舶が体感で感じる波の周期のこと．\n",
    "海洋波の周期（era5のmwpに相当，ただしこれは一時間おき），船舶の速度，相対波向（era5のmwdの単位はdegreeのため，そのまま代入すれば良い）から求められる．\n",
    "\n",
    "### 相対波向\n",
    "船舶の進路方向から見た波向．\n",
    "\n",
    "- 相対波向：\\$ \\chi[deg] \\$\n",
    "- 船舶方向：\\$ D[deg]\\$\n",
    "- 波向：\\$ W[deg]\\$\n",
    "\n",
    "$$\n",
    "\\chi = D - W\n",
    "$$\n",
    "\n",
    "- 海洋波の周期: \\$ T_{w} \\$\n",
    "- 船舶の速度：\\$ V \\$\n",
    "- 出会い周期：\\$T_{e}\\$\n",
    "\n",
    "$$\n",
    "T_{e} = \\frac{\\frac{gT_{w}^2}{2\\pi}}{\\frac{gT_{w}}{2\\pi} + Vcos\\chi} \n",
    "$$\n"
   ]
  },
  {
   "cell_type": "code",
   "execution_count": 76,
   "metadata": {},
   "outputs": [],
   "source": [
    "# mwdが負の地点の処理\n",
    "shirase_spc['mwd'] = shirase_spc['mwd'].where(shirase_spc['mwd'] >= 0, 0.0)"
   ]
  },
  {
   "cell_type": "code",
   "execution_count": 84,
   "metadata": {},
   "outputs": [],
   "source": [
    "# 相対波向：船舶正面から波が向かってくる場合を90度\n",
    "shirase_spc['Relative wave direction[deg]'] = shirase_spc['Course[deg]'] - shirase_spc['mwd'] + 90"
   ]
  },
  {
   "cell_type": "code",
   "execution_count": 92,
   "metadata": {},
   "outputs": [],
   "source": [
    "df_resampled = shirase_spc\n",
    "df_resampled['Relative wave direction[deg]'] = df_resampled['Relative wave direction[deg]'].where(\n",
    "                                                                    df_resampled['Relative wave direction[deg]'] >= 0,\n",
    "                                                                    df_resampled['Relative wave direction[deg]'] + 360)\n",
    "df_resampled['Relative wave direction[deg]'] = df_resampled['Relative wave direction[deg]'].where(\n",
    "                                                                    df_resampled['Relative wave direction[deg]'] < 360,\n",
    "                                                                    df_resampled['Relative wave direction[deg]'] - 360)"
   ]
  },
  {
   "cell_type": "code",
   "execution_count": 94,
   "metadata": {},
   "outputs": [],
   "source": [
    "df_resampled['Speed[m/s]'] = df_resampled['Speed[knot]'] * 0.5144"
   ]
  },
  {
   "cell_type": "code",
   "execution_count": 95,
   "metadata": {},
   "outputs": [],
   "source": [
    "g = 9.8\n",
    "df_resampled['encounter cycle'] = (g * df_resampled['mwp'] ** 2 / (2 * np.pi)) / ((g * df_resampled['mwp'] / (2 * np.pi)) + df_resampled['Speed[m/s]'] * np.cos(np.deg2rad(df_resampled['Relative wave direction[deg]'])))"
   ]
  },
  {
   "cell_type": "code",
   "execution_count": 114,
   "metadata": {},
   "outputs": [],
   "source": [
    "df_resampled = df_resampled[df_resampled['encounter cycle'] >= 0]\n",
    "#df_resampled = df_resampled[df_resampled['encounter cycle'] <= 20]"
   ]
  },
  {
   "cell_type": "markdown",
   "metadata": {},
   "source": [
    "# ERA5からの海水飛沫予測\n",
    "\n",
    "「しらせ」の船速・船向とERA5のデータセットを組み合わせることにより，飛沫発生時の海象の傾向を見ることを目的とする．また，ERA5データセットの気象・海象データから解析データ内の飛沫発生を予測できないかを探ることとする．\n",
    "\n",
    "## 船長波長比と飛沫量の関係\n",
    "伏見さんの修論中では，船体波長比と飛沫量との間に相関が見られる．この船体波長比は以下の式で計算できる．\n",
    "\n",
    "- 海洋波の周期(ERA5より取得): \\$ T_{w} \\$\n",
    "- 海洋波の波長: \\$ \\lambda \\$\n",
    "\n",
    "$$\n",
    "\\lambda = \\frac{gT_{w}^2}{2\\pi}\n",
    "$$\n",
    "\n",
    "- 船長: \\$ L \\$\n",
    "- 船体波長比: \\$ M \\$\n",
    "\n",
    "$$\n",
    "M = \\frac{\\lambda}{L}\n",
    "$$"
   ]
  },
  {
   "cell_type": "code",
   "execution_count": 129,
   "metadata": {},
   "outputs": [
    {
     "name": "stderr",
     "output_type": "stream",
     "text": [
      "/home/nt/Desktop/soturon/soturon/lib/python3.6/site-packages/ipykernel_launcher.py:3: SettingWithCopyWarning: \n",
      "A value is trying to be set on a copy of a slice from a DataFrame.\n",
      "Try using .loc[row_indexer,col_indexer] = value instead\n",
      "\n",
      "See the caveats in the documentation: http://pandas.pydata.org/pandas-docs/stable/user_guide/indexing.html#returning-a-view-versus-a-copy\n",
      "  This is separate from the ipykernel package so we can avoid doing imports until\n",
      "/home/nt/Desktop/soturon/soturon/lib/python3.6/site-packages/ipykernel_launcher.py:4: SettingWithCopyWarning: \n",
      "A value is trying to be set on a copy of a slice from a DataFrame.\n",
      "Try using .loc[row_indexer,col_indexer] = value instead\n",
      "\n",
      "See the caveats in the documentation: http://pandas.pydata.org/pandas-docs/stable/user_guide/indexing.html#returning-a-view-versus-a-copy\n",
      "  after removing the cwd from sys.path.\n"
     ]
    }
   ],
   "source": [
    "# 船体波長比を算出(しらせ2代目)\n",
    "L = 138.0\n",
    "df_resampled['wave_length'] = g * df_resampled['mwp']**2 / (2 * np.pi)\n",
    "df_resampled['ratio'] = df_resampled['wave_length'] / L"
   ]
  },
  {
   "cell_type": "code",
   "execution_count": 131,
   "metadata": {},
   "outputs": [],
   "source": [
    "df_resampled.to_pickle(\"./data_for_modeling.pickle\")"
   ]
  },
  {
   "cell_type": "markdown",
   "metadata": {},
   "source": [
    "# しらせでは相対風速を測定しているので以下はいらない"
   ]
  },
  {
   "cell_type": "markdown",
   "metadata": {},
   "source": [
    "## ERA5の風速・風向データを用いた飛沫量予測\n",
    "具体的には，ERA5の10u, 10vを用いる．\n",
    "\n",
    "- 10u: 地上10mにおける，風速の東西方向成分．東に向かって吹く場合を正．\n",
    "- 10v: 地上10mにおける，風速の南北方向成分．北に向かって吹く場合を正．"
   ]
  },
  {
   "cell_type": "markdown",
   "metadata": {},
   "source": [
    "<img src=\"./dataset/cruise/jare60/how_to_calc_wind_direction.png\" width=\"300\" height=\"300\">"
   ]
  },
  {
   "cell_type": "code",
   "execution_count": null,
   "metadata": {},
   "outputs": [],
   "source": [
    "# # 絶対風向値を算出\n",
    "# df_resampled['era5_abs_wind_direction'] = np.rad2deg(np.arctan(df_resampled['v10'] / df_resampled['u10']))\n",
    "# df_resampled['era5_abs_wind_direction'] = df_resampled['era5_abs_wind_direction'].where(\n",
    "#                                                                     df_resampled['era5_abs_wind_direction'] >= 0,\n",
    "#                                                                     df_resampled['era5_abs_wind_direction'] + 360)"
   ]
  },
  {
   "cell_type": "code",
   "execution_count": null,
   "metadata": {},
   "outputs": [],
   "source": [
    "# # 船舶進路から見た相対風向を算出\n",
    "# df_resampled['era5_rel_wind_direction'] = df_resampled['Course[deg]'] - df_resampled['era5_abs_wind_direction']"
   ]
  },
  {
   "cell_type": "code",
   "execution_count": null,
   "metadata": {},
   "outputs": [],
   "source": [
    "# # 修正\n",
    "# df_resampled['era5_rel_wind_direction'] = df_resampled['era5_rel_wind_direction'].where(\n",
    "#                                                                     df_resampled['era5_rel_wind_direction'] >= 0,\n",
    "#                                                                     df_resampled['era5_rel_wind_direction'] + 360)"
   ]
  },
  {
   "cell_type": "code",
   "execution_count": null,
   "metadata": {},
   "outputs": [],
   "source": [
    "# # 船首方向からの風速を追加\n",
    "# df_resampled['era5_wind_speed'] = np.sqrt(df_resampled['u10'] ** 2 + df_resampled['v10'] ** 2)\n",
    "# df_resampled['era5_wind_speed_from_the_bow'] = -1 * np.cos(df_resampled['era5_rel_wind_direction']) * \\\n",
    "#                                                                                     df_resampled['era5_wind_speed']"
   ]
  },
  {
   "cell_type": "markdown",
   "metadata": {},
   "source": [
    "### ERA5の海象・気象予報データと飛沫量の2次元ヒストグラム\n",
    "主に，以下の海象・気象予報データを用いる．\n",
    "\n",
    "- 出会い周期\n",
    "- 相対波向\n",
    "- 船長波長比\n",
    "- 有義波向\n",
    "- 相対風向\n",
    "- 船首方向からの風速"
   ]
  },
  {
   "cell_type": "code",
   "execution_count": null,
   "metadata": {},
   "outputs": [],
   "source": [
    "# extracted_data_era5 = ['encounter cycle', 'Relative wave direction[deg]', 'ratio', 'swh', 'era5_rel_wind_direction', \n",
    "#                              'era5_wind_speed_from_the_bow']\n",
    "# name_era5 = ['Average encounter period[s]', 'Wave direction\\nrelative to ship cource[deg]', \n",
    "#                     'ratio between the ship length\\nand the wave length', 'Significant wave\\nheight[m]',\n",
    "#                     'Wind direction\\nrelative to ship cource[deg]', 'Wind speed\\nfrom bow direction[m/s]']"
   ]
  },
  {
   "cell_type": "code",
   "execution_count": null,
   "metadata": {},
   "outputs": [],
   "source": [
    "# from matplotlib import rcParams,colors\n",
    "\n",
    "# num=2\n",
    "# rcParams.update({'font.size': 10})\n",
    "# fig = plt.figure(figsize=(8, 5), facecolor='w', edgecolor='k')\n",
    "\n",
    "# for i, col in enumerate(extracted_data_era5):\n",
    "#     plt.subplot(3, 2, i+1)\n",
    "#     plt.subplots_adjust(wspace=0.2, hspace=1.4)\n",
    "#     plt.hist2d(df_resampled[col], spc_data,\n",
    "#                    bins=40, norm=colors.LogNorm(vmin=1, vmax=150))\n",
    "#     plt.xlabel(name_era5[i])\n",
    "#     plt.ylabel('SPC[mm]')\n",
    "#     plt.colorbar()\n",
    "#     plt.ylim([0, 50])\n",
    "# plt.savefig(\"./dataset/cruise/jare60/2dhist_era5.png\")\n",
    "# plt.show()"
   ]
  },
  {
   "cell_type": "markdown",
   "metadata": {},
   "source": [
    "# スペクトログラム"
   ]
  },
  {
   "cell_type": "code",
   "execution_count": null,
   "metadata": {},
   "outputs": [],
   "source": [
    "pitch_from_df = np.array(df_resampled['ピッチ (度)'])"
   ]
  },
  {
   "cell_type": "code",
   "execution_count": null,
   "metadata": {},
   "outputs": [],
   "source": [
    "def resample(df,freq=\"T\", sep_tp=0.01, sep_swh=0.5):\n",
    "    df = df.drop_duplicates().dropna().sort_index().resample(\"S\").nearest(300)\n",
    "\n",
    "    tmp = df.resample(freq).mean()\n",
    "    len_raw = len(df)//60\n",
    "    # 雨を除外\n",
    "    tmp = tmp.loc[tmp['tp'] <= sep_tp*0.001, :]\n",
    "#     # 風を除外\n",
    "    #tmp = tmp.loc[tmp['Relative wind speed[m/s]_y'] > 0, :]\n",
    "    tmp = tmp.loc[tmp['swh'] > sep_swh, :]\n",
    "    print(\"avalable data ratio:{} %\".format(len(tmp)/len_raw*100), len(tmp))\n",
    "    return tmp"
   ]
  },
  {
   "cell_type": "code",
   "execution_count": null,
   "metadata": {},
   "outputs": [],
   "source": [
    "df_resampled['swh'].describe()"
   ]
  },
  {
   "cell_type": "code",
   "execution_count": null,
   "metadata": {},
   "outputs": [],
   "source": [
    "plt.figure(figsize=(15,5))\n",
    "plt.plot(np.array(pitch_from_df))"
   ]
  },
  {
   "cell_type": "code",
   "execution_count": null,
   "metadata": {},
   "outputs": [],
   "source": [
    "#S, n_fft = _spectrogram(y=pitch_from_df, n_fft=64, hop_length=1, power=2)\n",
    "S = np.abs(librosa.core.stft(pitch_from_df, n_fft=64, hop_length=1, window='hann'))"
   ]
  },
  {
   "cell_type": "code",
   "execution_count": null,
   "metadata": {},
   "outputs": [],
   "source": [
    "S.shape"
   ]
  },
  {
   "cell_type": "code",
   "execution_count": null,
   "metadata": {},
   "outputs": [],
   "source": [
    "import librosa.display"
   ]
  },
  {
   "cell_type": "code",
   "execution_count": null,
   "metadata": {},
   "outputs": [],
   "source": []
  },
  {
   "cell_type": "code",
   "execution_count": null,
   "metadata": {},
   "outputs": [],
   "source": [
    "plt.figure(figsize=(15,5))\n",
    "#librosa.display.specshow(librosa.amplitude_to_db(S[:, :10000], ref=np.max), sr=1, x_axis='time')\n",
    "librosa.display.specshow(librosa.amplitude_to_db(S[:, :10000]), sr=1, x_axis='time')\n",
    "#plt.colorbar(format='%+2.0f dB')\n",
    "plt.colorbar()\n",
    "plt.tight_layout()\n",
    "plt.show()"
   ]
  },
  {
   "cell_type": "code",
   "execution_count": null,
   "metadata": {},
   "outputs": [],
   "source": [
    "S_db = librosa.power_to_db(S, ref=np.max)\n",
    "S_db"
   ]
  },
  {
   "cell_type": "code",
   "execution_count": null,
   "metadata": {},
   "outputs": [],
   "source": [
    "S_db = librosa.power_to_db(S, ref=np.max)\n",
    "plt.imshow(S_db)\n",
    "#librosa.display.specshow(S_db, x_axis='time', y_axis='freq')\n",
    "plt.colorbar()"
   ]
  },
  {
   "cell_type": "code",
   "execution_count": null,
   "metadata": {},
   "outputs": [],
   "source": []
  },
  {
   "cell_type": "markdown",
   "metadata": {},
   "source": [
    "# 飛沫予測\n",
    "\n",
    "## 船体運動のピッチを処理\n",
    "船体運動のピッチを"
   ]
  },
  {
   "cell_type": "code",
   "execution_count": null,
   "metadata": {},
   "outputs": [],
   "source": [
    "df_resampled.columns"
   ]
  },
  {
   "cell_type": "code",
   "execution_count": null,
   "metadata": {},
   "outputs": [],
   "source": [
    "df_resampled.corr().loc['SPC_flux[mm]', :]"
   ]
  },
  {
   "cell_type": "code",
   "execution_count": null,
   "metadata": {},
   "outputs": [],
   "source": [
    "df_copy = df_resampled"
   ]
  },
  {
   "cell_type": "code",
   "execution_count": null,
   "metadata": {},
   "outputs": [],
   "source": [
    "# ピッチ部分を抽出(1秒ごと)\n",
    "pitch_from_df = df_copy['ピッチ (度)']\n",
    "# arrayに変換\n",
    "pitch_from_df_array = np.array(pitch_from_df)"
   ]
  },
  {
   "cell_type": "code",
   "execution_count": null,
   "metadata": {},
   "outputs": [],
   "source": [
    "from tqdm import tqdm\n",
    "\n",
    "def calc_fft(data, delta=1, n=32):\n",
    "    \"\"\"\n",
    "    区間サンプル数(n)の窓関数で切り出した波形に対しFFTを実行．\n",
    "    \n",
    "    data: 対象データ\n",
    "    delta: ずらす時間\n",
    "    n: 窓関数のサンプル数\n",
    "    \"\"\"\n",
    "    output = []\n",
    "    # ハミング窓を生成\n",
    "    hamming_window = np.hamming(n)\n",
    "    # 時間軸をずらしながら窓関数を掛け，FFT\n",
    "    for i in tqdm(range(len(data))):\n",
    "        section = data[i * delta : i * delta + n]\n",
    "        if len(section) < n:\n",
    "            section = np.pad(section, [0, n - len(section)], 'constant')\n",
    "        extracted_data = section * hamming_window\n",
    "        fft_extracted_data = np.abs(np.fft.fft(extracted_data))[:int(n/2)+1]\n",
    "        fft_extracted_data = fft_extracted_data / n * 2\n",
    "        fft_extracted_data[0] = fft_extracted_data[0] / 2\n",
    "        output.append(fft_extracted_data)\n",
    "        #output.append([0.01 if i == 0 else i for i in fft_extracted_data])\n",
    "\n",
    "    return output"
   ]
  },
  {
   "cell_type": "code",
   "execution_count": null,
   "metadata": {},
   "outputs": [],
   "source": [
    "pitch_fft = calc_fft(pitch_from_df_array)\n",
    "pitch_fft = np.array(pitch_fft)"
   ]
  },
  {
   "cell_type": "code",
   "execution_count": null,
   "metadata": {},
   "outputs": [],
   "source": [
    "pd_pitch_fft = pd.DataFrame(pitch_fft)"
   ]
  },
  {
   "cell_type": "code",
   "execution_count": null,
   "metadata": {},
   "outputs": [],
   "source": [
    "!pwd"
   ]
  },
  {
   "cell_type": "code",
   "execution_count": null,
   "metadata": {},
   "outputs": [],
   "source": [
    "import pickle\n",
    "with open('/Users/nakamurataiki/Dataset/pitch_fft.pickle', 'wb') as f:\n",
    "    pickle.dump(pitch_fft, f)"
   ]
  },
  {
   "cell_type": "code",
   "execution_count": null,
   "metadata": {},
   "outputs": [],
   "source": [
    "df_copy['idx'] = np.arange(0, df_copy.shape[0])"
   ]
  },
  {
   "cell_type": "code",
   "execution_count": null,
   "metadata": {},
   "outputs": [],
   "source": [
    "df_copy.columns"
   ]
  },
  {
   "cell_type": "code",
   "execution_count": null,
   "metadata": {},
   "outputs": [],
   "source": [
    "pd_pitch_fft['idx'] = np.arange(0, pd_pitch_fft.shape[0])"
   ]
  },
  {
   "cell_type": "code",
   "execution_count": null,
   "metadata": {},
   "outputs": [],
   "source": [
    "df_copy_concated = pd.merge(df_copy, pd_pitch_fft, on='idx')"
   ]
  },
  {
   "cell_type": "code",
   "execution_count": null,
   "metadata": {},
   "outputs": [],
   "source": [
    "import pickle\n",
    "# with open('./dataset/cruise/jare60/df_copy_concated.pickle', 'wb') as f:\n",
    "#     pickle.dump(df_copy_concated, f)\n",
    "with open('/Users/nakamurataiki/Dataset/df_copy_concated.pickle', 'wb') as f:\n",
    "    pickle.dump(df_copy_concated, f)"
   ]
  },
  {
   "cell_type": "code",
   "execution_count": null,
   "metadata": {},
   "outputs": [],
   "source": [
    "df_copy_concated = pd.read_pickle('~/Dataset/df_copy_concated.pickle')\n",
    "df_copy = df_copy_concated"
   ]
  },
  {
   "cell_type": "code",
   "execution_count": null,
   "metadata": {},
   "outputs": [],
   "source": [
    "df_copy.shape"
   ]
  },
  {
   "cell_type": "markdown",
   "metadata": {},
   "source": [
    "#### 飛沫データのラベリング"
   ]
  },
  {
   "cell_type": "code",
   "execution_count": null,
   "metadata": {},
   "outputs": [],
   "source": [
    "# 降雨量の閾値\n",
    "sep_tp = 0.01\n",
    "# 飛沫量の閾値\n",
    "sep_spc = 1000\n",
    "# 波の閾値\n",
    "sep_swh = 0.5\n",
    "\n",
    "df_copy = df_copy.loc[df_copy['tp'] <= sep_tp*0.001, :]\n",
    "#df_copy = df_copy.loc[df_copy['SPC_flux[mm]'] <= sep_spc, :]\n",
    "#df_copy = df_copy.loc[df_copy['swh'] > sep_swh, :]\n",
    "df_copy = df_copy.loc[df_copy['swh'] >= 0, :]\n",
    "spray_all = df_copy['SPC_flux[mm]']\n",
    "\n",
    "spray_all = np.array(spray_all)\n",
    "# 飛沫発生ならlabel=1, 飛沫0.0ならlabel=0\n",
    "spc_label = [1 if i != 0 else 0 for i in spray_all]\n",
    "df_copy['spc_label'] = spc_label"
   ]
  },
  {
   "cell_type": "markdown",
   "metadata": {},
   "source": [
    "#### 飛沫データの割合"
   ]
  },
  {
   "cell_type": "code",
   "execution_count": null,
   "metadata": {},
   "outputs": [],
   "source": [
    "print(sum(spc_label) / len(spc_label) * 100)"
   ]
  },
  {
   "cell_type": "code",
   "execution_count": null,
   "metadata": {},
   "outputs": [],
   "source": [
    "print(sum(spc_label), len(spc_label))"
   ]
  },
  {
   "cell_type": "code",
   "execution_count": null,
   "metadata": {},
   "outputs": [],
   "source": [
    "import matplotlib.pyplot as plt\n",
    "from scipy import fftpack\n",
    "from matplotlib import rcParams,colors\n",
    "\n",
    "figsize = (10, 8)\n",
    "cases = [i for i in range(17)]\n",
    "cols = 3\n",
    "rows = len(cases) // cols + 1\n",
    "# サンプリング周期[sec]\n",
    "dt = 1.0\n",
    "# 周波数軸\n",
    "n = 32\n",
    "fq = np.linspace(0, 1.0/dt, n)[:int(n/2)+1]\n",
    "#fq = fftpack.fftfreq(n=wave.size, d=1/fs)[:int(n/2)]\n",
    "print(fq)\n",
    "\n",
    "def trim_axs(axs, N):\n",
    "    \"\"\"little helper to massage the axs list to have correct length...\"\"\"\n",
    "    axs = axs.flat\n",
    "    for ax in axs[N:]:\n",
    "        ax.remove()\n",
    "    return axs[:N]\n",
    "\n",
    "fig1, axs = plt.subplots(rows, cols, figsize=figsize, constrained_layout=True)\n",
    "axs = trim_axs(axs, len(cases))\n",
    "for ax, case in zip(axs, cases):\n",
    "    ax.set_title(\"{}[s]\".format(1/fq[case]))\n",
    "    ax.hist2d(df_copy[case], df_copy['SPC_flux[mm]'], bins=40, norm=colors.LogNorm(vmin=1, vmax=150))\n",
    "fig1.savefig(\"/Users/nakamurataiki/Desktop/fft_results_hist2d.png\")\n",
    "    #ax.plot(x, y, 'o', ls='-', ms=4, markevery=case)"
   ]
  },
  {
   "cell_type": "code",
   "execution_count": null,
   "metadata": {},
   "outputs": [],
   "source": [
    "plt.figure(figsize=(15, 5))\n",
    "plt.plot(pitch_from_df_array)\n",
    "plt.title(\"\")\n",
    "plt.grid(True)"
   ]
  },
  {
   "cell_type": "markdown",
   "metadata": {},
   "source": [
    "## ロジスティック回帰"
   ]
  },
  {
   "cell_type": "code",
   "execution_count": null,
   "metadata": {},
   "outputs": [],
   "source": [
    "from sklearn.linear_model import LogisticRegression\n",
    "from sklearn.model_selection import StratifiedKFold\n",
    "from sklearn.model_selection import cross_validate"
   ]
  },
  {
   "cell_type": "code",
   "execution_count": null,
   "metadata": {},
   "outputs": [],
   "source": [
    "with open('/Users/nakamurataiki/Dataset/df_copy_pre_trained.pickle', 'wb') as f:\n",
    "    pickle.dump(df_copy, f)"
   ]
  },
  {
   "cell_type": "code",
   "execution_count": null,
   "metadata": {},
   "outputs": [],
   "source": [
    "from sklearn.model_selection import train_test_split\n",
    "from sklearn.linear_model import LogisticRegression\n",
    "from sklearn.model_selection import StratifiedKFold\n",
    "from sklearn.model_selection import cross_validate\n",
    "from sklearn.metrics import precision_score\n",
    "from sklearn.metrics import accuracy_score\n",
    "from sklearn.metrics import recall_score\n",
    "from sklearn.metrics import f1_score\n",
    "from imblearn.combine import SMOTEENN\n",
    "from imblearn.over_sampling import SMOTE\n",
    "\n",
    "def devide_dataset(data, label, test_size=0.3, smote_ratio={1: 10000}, is_smote=True):\n",
    "    X_train, X_test, y_train, y_test = train_test_split(data, label, test_size=test_size)\n",
    "    if is_smote:\n",
    "        X_train_resampled, y_train_resampled = SMOTEENN(ratio=smote_ratio,\n",
    "                                                                                random_state=0,\n",
    "                                                                                smote=SMOTE(n_jobs=3, random_state=0)\n",
    "                                                                               ).fit_sample(X_train, y_train)\n",
    "        print(\"SMOTE前: 0の数 = {} 1の数 = {}\".format(len(y_train), sum(y_train)))\n",
    "        print(\"SMOTE後: 0の数 = {} 1の数 = {}\".format(len(y_train_resampled), sum(y_train_resampled)))\n",
    "    else:\n",
    "        X_train_resampled, y_train_resampled = X_train, y_train\n",
    "        print(\"データバランス: 0の数 = {} 1の数 = {}\".format(len(y_train), sum(y_train)))\n",
    "    \n",
    "    return X_train_resampled, X_test, y_train_resampled, y_test\n",
    "    \n",
    "    \n",
    "selected_column = ['swh', 0, 1, 2, 3, 4, 5, 'Relative wind speed[m/s]']\n",
    "train = df_copy.loc[:, selected_column]\n",
    "test = df_copy['spc_label']\n",
    "\n",
    "X_train_resampled, X_test, y_train_resampled, y_test = devide_dataset(train, test, 0.3, {1: 10}, False)\n",
    "\n",
    "# 訓練\n",
    "lr = LogisticRegression()\n",
    "lr.fit(X_train_resampled, y_train_resampled)\n",
    "y_test_predicted = lr.predict(X_test)\n",
    "\n",
    "from sklearn.metrics import confusion_matrix\n",
    "cm = confusion_matrix(y_test, y_test_predicted)\n",
    "print(\"accuracy: {}\".format(accuracy_score(y_test, y_test_predicted)))\n",
    "print(\"precision: {}\".format(precision_score(y_test, y_test_predicted)))\n",
    "print(\"recall: {}\".format(recall_score(y_test, y_test_predicted)))\n",
    "print(\"f1_score: {}\".format(f1_score(y_test, y_test_predicted)))\n",
    "print(cm)"
   ]
  },
  {
   "cell_type": "markdown",
   "metadata": {},
   "source": [
    "## 機械学習\n",
    "### ロジスティック回帰\n",
    "#### 結果色々\n",
    "\n",
    "||デフォルト|SMOTEEN|\n",
    "|:--|--:|:--:|\n",
    "|飛沫なし|765373|1353121|\n",
    "|飛沫あり|32542|709112|\n",
    "|accuracy|0.957285880652891|0.1787798230584907|\n",
    "|precision|0.000000000000000|0.04902563016310104|\n",
    "|recall|      0.000000000000000|0.9998560011519908|\n",
    "|f1-score|-|0.0934682600311628|\n",
    "\n",
    "#### 混同行列\n",
    "[[314007      0]\n",
    " [ 14011      0]]\n",
    " \n",
    " "
   ]
  },
  {
   "cell_type": "code",
   "execution_count": null,
   "metadata": {},
   "outputs": [],
   "source": [
    "from sklearn.decomposition import PCA\n",
    "from sklearn.manifold import TSNE\n",
    "import os\n",
    "\n",
    "def plot_reduced_graph(data, label, image_name, model='tsne',\n",
    "                                     random_sampling=False, random_state=0,\n",
    "                                     file_path='/Users/nakamurataiki/Desktop/sprayf/dataset/cruise/jare60'):\n",
    "    if random_sampling:\n",
    "        data = data.sample(1000, random_state=random_state)\n",
    "        label = label.sample(1000, random_state=random_state)\n",
    "        \n",
    "    data = np.array(data)\n",
    "    label = np.array(label)\n",
    "        \n",
    "    if model == 'pca':\n",
    "        pca = PCA(n_components=2, random_state=random_state)\n",
    "        transformed = pca.fit_transform(data)\n",
    "    elif model == 'tsne':\n",
    "        transformed = TSNE(n_components=2, random_state=random_state).fit_transform(data)\n",
    "    \n",
    "    transformed_1 = transformed[label == 1]\n",
    "    transformed_0 = transformed[label == 0]\n",
    "    \n",
    "    plt.figure(figsize=(7, 7))\n",
    "    plt.scatter(transformed_0[:, 0], transformed_0[:, 1], color='black', label='0', alpha=0.1)\n",
    "    plt.scatter(transformed_1[:, 0], transformed_1[:, 1], color='yellow', label='1')\n",
    "    plt.title(\"PCA: FFT\")\n",
    "    plt.show()\n",
    "    plt.savefig(os.path.join(file_path, image_name+'.png'))"
   ]
  },
  {
   "cell_type": "code",
   "execution_count": null,
   "metadata": {},
   "outputs": [],
   "source": [
    "from sklearn.decomposition import PCA\n",
    "from sklearn.manifold import TSNE\n",
    "import os\n",
    "\n",
    "def plot_reduced_graph(data, label, image_name, model='tsne',\n",
    "                                     random_sampling=False, random_state=0,\n",
    "                                     file_path='/Users/nakamurataiki/Desktop/sprayf/dataset/cruise/jare60'):\n",
    "    if random_sampling:\n",
    "        data = data.sample(1000, random_state=random_state)\n",
    "        label = label.sample(1000, random_state=random_state)\n",
    "        \n",
    "    data = np.array(data)\n",
    "    label = np.array(label)\n",
    "        \n",
    "    if model == 'pca':\n",
    "        pca = PCA(n_components=2, random_state=random_state)\n",
    "        transformed = pca.fit_transform(data)\n",
    "    elif model == 'tsne':\n",
    "        transformed = TSNE(n_components=2, random_state=random_state).fit_transform(data)\n",
    "    \n",
    "    transformed_1 = transformed[label == 1]\n",
    "    transformed_0 = transformed[label == 0]\n",
    "    \n",
    "    plt.figure(figsize=(7, 7))\n",
    "    plt.scatter(transformed_0[:, 0], transformed_0[:, 1], color='black', label='0', alpha=0.1)\n",
    "    plt.scatter(transformed_1[:, 0], transformed_1[:, 1], color='yellow', label='1')\n",
    "    plt.title(\"PCA: FFT\")\n",
    "    plt.show()\n",
    "    plt.savefig(os.path.join(file_path, image_name+'.png'))\n",
    "\n",
    "reduction_data = []\n",
    "#reduction_data = ['swh', '速度 (kt)', '相対風速 (m/s)', 0, 1]\n",
    "#reduction_data = ['Relative wind speed[m/s]', 'swh']\n",
    "reduction_data.extend([i for i in range(0, 3)])\n",
    "for_reduction = df_copy.loc[:, reduction_data]\n",
    "label = df_copy.iloc[:, -1]\n",
    "print(for_reduction.shape, label.shape)\n",
    "plot_reduced_graph(for_reduction, label, 'pca_relativewind_swh', model='pca', random_sampling=False)"
   ]
  },
  {
   "cell_type": "code",
   "execution_count": null,
   "metadata": {},
   "outputs": [],
   "source": []
  }
 ],
 "metadata": {
  "kernelspec": {
   "display_name": "Python 3",
   "language": "python",
   "name": "python3"
  },
  "language_info": {
   "codemirror_mode": {
    "name": "ipython",
    "version": 3
   },
   "file_extension": ".py",
   "mimetype": "text/x-python",
   "name": "python",
   "nbconvert_exporter": "python",
   "pygments_lexer": "ipython3",
   "version": "3.6.8"
  }
 },
 "nbformat": 4,
 "nbformat_minor": 2
}
